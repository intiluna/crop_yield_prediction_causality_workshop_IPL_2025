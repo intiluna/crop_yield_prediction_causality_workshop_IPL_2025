{
 "cells": [
  {
   "cell_type": "markdown",
   "id": "89e39f11-f1c5-47eb-93ad-d9f9ed697d10",
   "metadata": {},
   "source": [
    "\n",
    "# Workshop IPL Causality - Data Preprocess V1"
   ]
  },
  {
   "cell_type": "markdown",
   "id": "065d6266-3b14-471e-ad89-c985906591a4",
   "metadata": {},
   "source": [
    "## Data information\n",
    "\n",
    "- One file for all countries metrics\n",
    "- One file for yield data\n",
    "- One file for quality\n",
    "\n",
    "\n"
   ]
  },
  {
   "cell_type": "code",
   "execution_count": 1,
   "id": "1de91788-24f8-403d-8a74-c7d5e19985f6",
   "metadata": {},
   "outputs": [],
   "source": [
    "from pathlib import Path\n",
    "import pandas as pd\n",
    "import numpy as np\n",
    "import matplotlib.pyplot as plt\n",
    "import json\n",
    "import time\n",
    "from datetime import datetime\n",
    "import seaborn as sns\n",
    "import sys\n",
    "import os\n",
    "from sklearn import metrics\n",
    "# specific \n",
    "# add project root folder to sys.path\n",
    "# sys.path.append(os.path.abspath('..'))\n",
    "# from shared_utils import utils_functions as uf"
   ]
  },
  {
   "cell_type": "code",
   "execution_count": 2,
   "id": "4230d5bf-ed7f-46b2-9420-18070dea4169",
   "metadata": {},
   "outputs": [],
   "source": [
    "# Mostrar todas las columnas en un DataFrame\n",
    "pd.set_option('display.max_columns', None)\n",
    "\n",
    "# Evitar que el DataFrame se corte en múltiples líneas\n",
    "pd.set_option('display.expand_frame_repr', False)\n",
    "\n",
    "# Controlar el número máximo de filas que se muestran\n",
    "pd.set_option('display.max_rows', 100)\n",
    "\n",
    "# Ajustar el ancho máximo de cada columna\n",
    "pd.set_option('display.max_colwidth', 50)"
   ]
  },
  {
   "cell_type": "markdown",
   "id": "1f1a003f-915c-487f-9e44-ccc5beaef27a",
   "metadata": {},
   "source": [
    "### Data Context\n",
    "\n",
    "Crop: Maize\n",
    "\n",
    "Countries: 40 countries (all countries in which Maize is one of top3 national crops).\n",
    "\n",
    "Pre-process: We are using information from the clustering experiment preparation in which all countries for maize, rice and wheat were processed and yield was modeled.\n",
    "\n",
    "Variables\n",
    "- Meteo (rain, temperature, radiation)\n",
    "- FPAR\n",
    "- Soil Moisture"
   ]
  },
  {
   "cell_type": "markdown",
   "id": "cac8cc84-673c-4b09-9d8c-6de064aa7460",
   "metadata": {},
   "source": [
    "## Get model input (metrics)\n",
    "  "
   ]
  },
  {
   "cell_type": "code",
   "execution_count": 6,
   "id": "8184172e-c3b3-428b-8a0e-dc3ac1c80f04",
   "metadata": {},
   "outputs": [
    {
     "name": "stdout",
     "output_type": "stream",
     "text": [
      "           crop country  country_id  season_FAOStatyear    season season_type cropmask_option  asap:fpar_max  asap:rain_sum  asap:rad_sum  asap:temp_mean  asap:sm_mean      PCA1\n",
      "0  Maize (corn)  Angola          92                2001  season_1        main         option2       0.638221     885.816096  3.740097e+06       20.431563      0.249967 -0.966520\n",
      "1  Maize (corn)  Angola          92                2002  season_1        main         option2       0.644982     975.633915  3.773766e+06       20.763087      0.252809 -0.731392\n",
      "2  Maize (corn)  Angola          92                2003  season_1        main         option2       0.635370     890.016960  3.769446e+06       20.699059      0.260046 -0.485087\n",
      "3  Maize (corn)  Angola          92                2004  season_1        main         option2       0.622427     927.546693  3.774797e+06       20.499467      0.264643 -0.769711\n",
      "4  Maize (corn)  Angola          92                2005  season_1        main         option2       0.643485     955.636923  3.806850e+06       20.932469      0.259639 -0.209904\n"
     ]
    }
   ],
   "source": [
    "# Read csv with best cropmask per crop-country\n",
    "csv_metrics = \"best_cropmask_crop_country_metrics.csv\"\n",
    "try:\n",
    "    df_metrics = pd.read_csv(csv_metrics)\n",
    "    print(df_metrics.head())\n",
    "except Exception as e:\n",
    "    print(e)\n",
    "\n"
   ]
  },
  {
   "cell_type": "markdown",
   "id": "a60af6ad-0aaf-45bc-9e63-dc5405792ac0",
   "metadata": {},
   "source": [
    "Note: Trend features is obtained using yield data and create_trend_features()"
   ]
  },
  {
   "cell_type": "code",
   "execution_count": 10,
   "id": "47805f84-bfc0-4d82-825c-b7b9591a43a1",
   "metadata": {},
   "outputs": [],
   "source": [
    "def create_trend_features(df, num_years, years_to_skip):\n",
    "    dfx = df.copy()\n",
    "    for i in range(1, num_years):\n",
    "        column_name = f\"yt_{i}\"\n",
    "        # Ajusta el desplazamiento teniendo en cuenta los años a omitir\n",
    "        adjusted_shift = i + years_to_skip\n",
    "        dfx.loc[:, column_name] = dfx[\"yield\"].shift(adjusted_shift)\n",
    "    return dfx"
   ]
  },
  {
   "cell_type": "markdown",
   "id": "39217e0a-35e2-4470-90c8-08e05512cda8",
   "metadata": {},
   "source": [
    "## Get Yield Data"
   ]
  },
  {
   "cell_type": "code",
   "execution_count": 8,
   "id": "d5d540c3-b71f-4057-b296-3c9cc614d337",
   "metadata": {},
   "outputs": [
    {
     "name": "stdout",
     "output_type": "stream",
     "text": [
      "  country  country_id          crop  year  yield\n",
      "0  Angola          92  Maize (corn)  1961  811.3\n",
      "1  Angola          92  Maize (corn)  1962  811.3\n",
      "2  Angola          92  Maize (corn)  1963  769.2\n",
      "3  Angola          92  Maize (corn)  1964  865.4\n",
      "4  Angola          92  Maize (corn)  1965  937.5\n"
     ]
    }
   ],
   "source": [
    "csv_yield = \"yield_data_all_crops_clustering.csv\"\n",
    "try:\n",
    "    df_yield = pd.read_csv(csv_yield)\n",
    "    print(df_yield.head())\n",
    "except Exception as e:\n",
    "    print(e)\n"
   ]
  },
  {
   "cell_type": "code",
   "execution_count": 15,
   "id": "d9819196-23f5-4ff7-a851-4c24b64b0c9a",
   "metadata": {},
   "outputs": [
    {
     "name": "stdout",
     "output_type": "stream",
     "text": [
      "(27, 5)\n"
     ]
    },
    {
     "data": {
      "text/html": [
       "<div>\n",
       "<style scoped>\n",
       "    .dataframe tbody tr th:only-of-type {\n",
       "        vertical-align: middle;\n",
       "    }\n",
       "\n",
       "    .dataframe tbody tr th {\n",
       "        vertical-align: top;\n",
       "    }\n",
       "\n",
       "    .dataframe thead th {\n",
       "        text-align: right;\n",
       "    }\n",
       "</style>\n",
       "<table border=\"1\" class=\"dataframe\">\n",
       "  <thead>\n",
       "    <tr style=\"text-align: right;\">\n",
       "      <th></th>\n",
       "      <th>country</th>\n",
       "      <th>country_id</th>\n",
       "      <th>crop</th>\n",
       "      <th>year</th>\n",
       "      <th>yield</th>\n",
       "    </tr>\n",
       "  </thead>\n",
       "  <tbody>\n",
       "    <tr>\n",
       "      <th>35</th>\n",
       "      <td>Angola</td>\n",
       "      <td>92</td>\n",
       "      <td>Maize (corn)</td>\n",
       "      <td>1996</td>\n",
       "      <td>699.3</td>\n",
       "    </tr>\n",
       "    <tr>\n",
       "      <th>36</th>\n",
       "      <td>Angola</td>\n",
       "      <td>92</td>\n",
       "      <td>Maize (corn)</td>\n",
       "      <td>1997</td>\n",
       "      <td>595.9</td>\n",
       "    </tr>\n",
       "    <tr>\n",
       "      <th>37</th>\n",
       "      <td>Angola</td>\n",
       "      <td>92</td>\n",
       "      <td>Maize (corn)</td>\n",
       "      <td>1998</td>\n",
       "      <td>739.6</td>\n",
       "    </tr>\n",
       "    <tr>\n",
       "      <th>38</th>\n",
       "      <td>Angola</td>\n",
       "      <td>92</td>\n",
       "      <td>Maize (corn)</td>\n",
       "      <td>1999</td>\n",
       "      <td>636.1</td>\n",
       "    </tr>\n",
       "    <tr>\n",
       "      <th>39</th>\n",
       "      <td>Angola</td>\n",
       "      <td>92</td>\n",
       "      <td>Maize (corn)</td>\n",
       "      <td>2000</td>\n",
       "      <td>574.5</td>\n",
       "    </tr>\n",
       "  </tbody>\n",
       "</table>\n",
       "</div>"
      ],
      "text/plain": [
       "   country  country_id          crop  year  yield\n",
       "35  Angola          92  Maize (corn)  1996  699.3\n",
       "36  Angola          92  Maize (corn)  1997  595.9\n",
       "37  Angola          92  Maize (corn)  1998  739.6\n",
       "38  Angola          92  Maize (corn)  1999  636.1\n",
       "39  Angola          92  Maize (corn)  2000  574.5"
      ]
     },
     "execution_count": 15,
     "metadata": {},
     "output_type": "execute_result"
    }
   ],
   "source": [
    "my_country_id = 92\n",
    "years_to_trend = 3\n",
    "years_to_skip = 1\n",
    "initial_year = 1995\n",
    "df_x = df_yield[(df_yield[\"country_id\"]==my_country_id) & (df_yield[\"year\"]> initial_year)]\n",
    "print(df_x.shape)\n",
    "df_x.head()"
   ]
  },
  {
   "cell_type": "code",
   "execution_count": 16,
   "id": "33cf23ec-29c8-42c4-ab03-303e698afccf",
   "metadata": {},
   "outputs": [
    {
     "data": {
      "text/html": [
       "<div>\n",
       "<style scoped>\n",
       "    .dataframe tbody tr th:only-of-type {\n",
       "        vertical-align: middle;\n",
       "    }\n",
       "\n",
       "    .dataframe tbody tr th {\n",
       "        vertical-align: top;\n",
       "    }\n",
       "\n",
       "    .dataframe thead th {\n",
       "        text-align: right;\n",
       "    }\n",
       "</style>\n",
       "<table border=\"1\" class=\"dataframe\">\n",
       "  <thead>\n",
       "    <tr style=\"text-align: right;\">\n",
       "      <th></th>\n",
       "      <th>year</th>\n",
       "      <th>yield</th>\n",
       "      <th>yt_1</th>\n",
       "      <th>yt_2</th>\n",
       "    </tr>\n",
       "  </thead>\n",
       "  <tbody>\n",
       "    <tr>\n",
       "      <th>38</th>\n",
       "      <td>1999</td>\n",
       "      <td>636.1</td>\n",
       "      <td>595.9</td>\n",
       "      <td>699.3</td>\n",
       "    </tr>\n",
       "    <tr>\n",
       "      <th>39</th>\n",
       "      <td>2000</td>\n",
       "      <td>574.5</td>\n",
       "      <td>739.6</td>\n",
       "      <td>595.9</td>\n",
       "    </tr>\n",
       "    <tr>\n",
       "      <th>40</th>\n",
       "      <td>2001</td>\n",
       "      <td>575.4</td>\n",
       "      <td>636.1</td>\n",
       "      <td>739.6</td>\n",
       "    </tr>\n",
       "    <tr>\n",
       "      <th>41</th>\n",
       "      <td>2002</td>\n",
       "      <td>670.6</td>\n",
       "      <td>574.5</td>\n",
       "      <td>636.1</td>\n",
       "    </tr>\n",
       "    <tr>\n",
       "      <th>42</th>\n",
       "      <td>2003</td>\n",
       "      <td>755.9</td>\n",
       "      <td>575.4</td>\n",
       "      <td>574.5</td>\n",
       "    </tr>\n",
       "  </tbody>\n",
       "</table>\n",
       "</div>"
      ],
      "text/plain": [
       "    year  yield   yt_1   yt_2\n",
       "38  1999  636.1  595.9  699.3\n",
       "39  2000  574.5  739.6  595.9\n",
       "40  2001  575.4  636.1  739.6\n",
       "41  2002  670.6  574.5  636.1\n",
       "42  2003  755.9  575.4  574.5"
      ]
     },
     "execution_count": 16,
     "metadata": {},
     "output_type": "execute_result"
    }
   ],
   "source": [
    "trend_x = create_trend_features(df=df_x[['year', 'yield']], num_years=years_to_trend, years_to_skip=years_to_skip).dropna()\n",
    "trend_x.head()"
   ]
  },
  {
   "cell_type": "markdown",
   "id": "b5cd8920-5549-409d-ae73-f8096bf91c5c",
   "metadata": {},
   "source": [
    "## Get Quality Data"
   ]
  },
  {
   "cell_type": "code",
   "execution_count": 9,
   "id": "06fd1214-8e9d-4f1a-b9d5-2f15ad8f5d52",
   "metadata": {},
   "outputs": [
    {
     "name": "stdout",
     "output_type": "stream",
     "text": [
      "           Crop    Country  country_id  giews_yield_data_quality  jrc_yield_data_fsv_threshold jrc_crop_calendar_reliability\n",
      "0  Maize (corn)   Honduras         100                         2                             1                             L\n",
      "1  Maize (corn)      Nepal         190                         3                             0                             L\n",
      "2  Maize (corn)   Paraguay         178                         4                             1                             N\n",
      "3  Maize (corn)  Argentina         166                         4                             3                             N\n",
      "4  Maize (corn)     Angola          92                         2                             6                             H\n"
     ]
    }
   ],
   "source": [
    "csv_quality = \"crop_country_quality_flags.csv\"\n",
    "try:\n",
    "    df_quality = pd.read_csv(csv_quality)\n",
    "    print(df_quality.head())\n",
    "except Exception as e:\n",
    "    print(e)"
   ]
  },
  {
   "cell_type": "code",
   "execution_count": null,
   "id": "91dc3311-3943-49c4-b5b8-f9ea7b6ea702",
   "metadata": {},
   "outputs": [],
   "source": []
  }
 ],
 "metadata": {
  "kernelspec": {
   "display_name": "Python 3 (ipykernel)",
   "language": "python",
   "name": "python3"
  },
  "language_info": {
   "codemirror_mode": {
    "name": "ipython",
    "version": 3
   },
   "file_extension": ".py",
   "mimetype": "text/x-python",
   "name": "python",
   "nbconvert_exporter": "python",
   "pygments_lexer": "ipython3",
   "version": "3.12.2"
  }
 },
 "nbformat": 4,
 "nbformat_minor": 5
}
